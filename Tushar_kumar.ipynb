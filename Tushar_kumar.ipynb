{
  "nbformat": 4,
  "nbformat_minor": 0,
  "metadata": {
    "colab": {
      "name": "Tushar kumar.ipynb",
      "provenance": [],
      "authorship_tag": "ABX9TyN8C+KnkYBMuXSMe0N1LoTA",
      "include_colab_link": true
    },
    "kernelspec": {
      "name": "python3",
      "display_name": "Python 3"
    },
    "language_info": {
      "name": "python"
    }
  },
  "cells": [
    {
      "cell_type": "markdown",
      "metadata": {
        "id": "view-in-github",
        "colab_type": "text"
      },
      "source": [
        "<a href=\"https://colab.research.google.com/github/tusharr01/Shape_AI_Cyber_Secuirity/blob/main/Tushar_kumar.ipynb\" target=\"_parent\"><img src=\"https://colab.research.google.com/assets/colab-badge.svg\" alt=\"Open In Colab\"/></a>"
      ]
    },
    {
      "cell_type": "code",
      "metadata": {
        "id": "Sqf55vdy7pTt",
        "colab": {
          "base_uri": "https://localhost:8080/"
        },
        "outputId": "cf6c317b-0e67-4a85-f077-3945b7e0646f"
      },
      "source": [
        "import requests\n",
        "from datetime import datetime\n",
        " \n",
        "api_key = '455a3faa47caccb43849cfbb1d009a7b'\n",
        "location = input(\"Enter the city name: \")\n",
        "complete_api_link = \"https://api.openweathermap.org/data/2.5/weather?q=\"+location+\"&appid=\"+api_key \n",
        "api_link = requests.get(complete_api_link) \n",
        "api_data = api_link.json()\n",
        " \n",
        "temp_city = ((api_data['main']['temp']) - 273.15)\n",
        "weather_desc = api_data['weather'][0]['description']\n",
        "hmdt = api_data['main']['humidity']\n",
        "wind_spd = api_data['wind']['speed']\n",
        "date_time= datetime.now().strftime(\"%d %b %Y | %I :%M : %S %p\")\n",
        " \n",
        "print(\"__________________________________________________________________________________\")\n",
        "print(\"weather stats for -{}  || {}\".format(location.upper(),date_time))\n",
        "print(\"__________________________________________________________________________________\")\n",
        "print(\"current temperature is: {:.2f} deg C\".format(temp_city))\n",
        "print(\"current weather desc :\",weather_desc)\n",
        "print(\"current Humidity  :\",hmdt, '%')\n",
        "print(\"current wind speed :\",wind_spd,'kmph')"
      ],
      "execution_count": null,
      "outputs": [
        {
          "output_type": "stream",
          "text": [
            "Enter the city name: Delhi\n",
            "__________________________________________________________________________________\n",
            "weather stats for -DELHI  || 23 Jun 2021 | 08 :29 : 02 AM\n",
            "__________________________________________________________________________________\n",
            "current temperature is: 39.05 deg C\n",
            "current weather desc : haze\n",
            "current Humidity  : 25 %\n",
            "current wind speed : 2.06 kmph\n"
          ],
          "name": "stdout"
        }
      ]
    }
  ]
}